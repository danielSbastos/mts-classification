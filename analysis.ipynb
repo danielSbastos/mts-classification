{
 "cells": [
  {
   "cell_type": "code",
   "execution_count": 1,
   "id": "786c40e5",
   "metadata": {},
   "outputs": [],
   "source": [
    "from sklearn.metrics import classification_report"
   ]
  },
  {
   "cell_type": "code",
   "execution_count": 2,
   "id": "7ae48eda",
   "metadata": {},
   "outputs": [],
   "source": [
    "def report_folder(label, fold_no):\n",
    "    predictions = []\n",
    "    labels = []\n",
    "    \n",
    "    for i in range(1, fold_no + 1):\n",
    "        with open('results/' + label + '/' + str(i) + '-predicted.txt', 'r') as file:\n",
    "            for _predictions in file.readlines():\n",
    "                predictions += list(_predictions)[:-1]\n",
    "\n",
    "        with open('results/' + label + '/' + str(i) + '-label.txt', 'r') as file:\n",
    "            for _labels in file.readlines():\n",
    "                labels += list(_labels)[:-1]\n",
    "    \n",
    "    print(classification_report(labels, predictions))"
   ]
  },
  {
   "cell_type": "code",
   "execution_count": 1,
   "id": "485fd858",
   "metadata": {},
   "outputs": [],
   "source": [
    "def report_folder_n(label, fold_no):\n",
    "    predictions = []\n",
    "    labels = []\n",
    "    \n",
    "    for n in range(30):\n",
    "        for i in range(1, fold_no + 1):\n",
    "            with open('results/' + label + '/' + str(n) + '/' + str(i) + '-predicted.txt', 'r') as file:\n",
    "                for _predictions in file.readlines():\n",
    "                    predictions += list(_predictions)[:-1]\n",
    "\n",
    "            with open('results/' + label + '/' + str(n) + '/' + str(i) + '-label.txt', 'r') as file:\n",
    "                for _labels in file.readlines():\n",
    "                    labels += list(_labels)[:-1]\n",
    "    \n",
    "    print(classification_report(labels, predictions))"
   ]
  },
  {
   "cell_type": "code",
   "execution_count": 7,
   "id": "31447452",
   "metadata": {},
   "outputs": [
    {
     "name": "stdout",
     "output_type": "stream",
     "text": [
      "              precision    recall  f1-score   support\n",
      "\n",
      "           0       0.96      0.40      0.57      1710\n",
      "           1       0.62      0.95      0.75     46110\n",
      "           2       0.90      0.55      0.69     28830\n",
      "           3       0.83      0.48      0.60     25890\n",
      "           4       0.30      0.10      0.16      2880\n",
      "\n",
      "    accuracy                           0.69    105420\n",
      "   macro avg       0.72      0.50      0.55    105420\n",
      "weighted avg       0.74      0.69      0.68    105420\n",
      "\n"
     ]
    }
   ],
   "source": [
    "report_folder_n('juliana-svm', 10)"
   ]
  }
 ],
 "metadata": {
  "kernelspec": {
   "display_name": "Python 3 (ipykernel)",
   "language": "python",
   "name": "python3"
  },
  "language_info": {
   "codemirror_mode": {
    "name": "ipython",
    "version": 3
   },
   "file_extension": ".py",
   "mimetype": "text/x-python",
   "name": "python",
   "nbconvert_exporter": "python",
   "pygments_lexer": "ipython3",
   "version": "3.8.10"
  }
 },
 "nbformat": 4,
 "nbformat_minor": 5
}
