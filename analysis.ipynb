{
 "cells": [
  {
   "cell_type": "code",
   "execution_count": 25,
   "id": "786c40e5",
   "metadata": {},
   "outputs": [],
   "source": [
    "from sklearn.metrics import classification_report, f1_score, precision_score"
   ]
  },
  {
   "cell_type": "code",
   "execution_count": 3,
   "id": "7ae48eda",
   "metadata": {},
   "outputs": [],
   "source": [
    "def report_folder(label, fold_no):\n",
    "    predictions = []\n",
    "    labels = []\n",
    "    \n",
    "    for i in range(1, fold_no + 1):\n",
    "        with open('results/' + label + '/' + str(i) + '-predicted.txt', 'r') as file:\n",
    "            for _predictions in file.readlines():\n",
    "                predictions += list(_predictions)[:-1]\n",
    "\n",
    "        with open('results/' + label + '/' + str(i) + '-label.txt', 'r') as file:\n",
    "            for _labels in file.readlines():\n",
    "                labels += list(_labels)[:-1]\n",
    "    \n",
    "    print(classification_report(labels, predictions))"
   ]
  },
  {
   "cell_type": "code",
   "execution_count": 27,
   "id": "485fd858",
   "metadata": {},
   "outputs": [],
   "source": [
    "def report_folder_n(label, fold_no):\n",
    "    predictions = []\n",
    "    labels = []\n",
    "    \n",
    "    for n in range(30):\n",
    "        for i in range(1, fold_no + 1):\n",
    "            with open('results/' + label + '/' + str(n) + '/' + str(i) + '-predicted.txt', 'r') as file:\n",
    "                for _predictions in file.readlines():\n",
    "                    predictions += list(_predictions)[:-1]\n",
    "\n",
    "            with open('results/' + label + '/' + str(n) + '/' + str(i) + '-label.txt', 'r') as file:\n",
    "                for _labels in file.readlines():\n",
    "                    labels += list(_labels)[:-1]\n",
    "                    \n",
    "    print(f1_score(labels, predictions, average='weighted'))\n",
    "    print(precision_score(labels, predictions, average='weighted'))\n",
    "    print(classification_report(labels, predictions))"
   ]
  },
  {
   "cell_type": "code",
   "execution_count": 28,
   "id": "31447452",
   "metadata": {},
   "outputs": [
    {
     "name": "stdout",
     "output_type": "stream",
     "text": [
      "0.7167654048160228\n",
      "0.7312361990659126\n",
      "              precision    recall  f1-score   support\n",
      "\n",
      "           0       0.51      0.71      0.60      1710\n",
      "           1       0.81      0.72      0.77     46110\n",
      "           2       0.69      0.76      0.72     28830\n",
      "           3       0.70      0.65      0.68     25890\n",
      "           4       0.22      0.47      0.30      2880\n",
      "\n",
      "    accuracy                           0.71    105420\n",
      "   macro avg       0.59      0.66      0.61    105420\n",
      "weighted avg       0.73      0.71      0.72    105420\n",
      "\n"
     ]
    }
   ],
   "source": [
    "report_folder_n('juliana-dt', 10)"
   ]
  },
  {
   "cell_type": "code",
   "execution_count": 29,
   "id": "980e9994",
   "metadata": {},
   "outputs": [
    {
     "name": "stdout",
     "output_type": "stream",
     "text": [
      "0.8303733291011424\n",
      "0.8326942494016656\n",
      "              precision    recall  f1-score   support\n",
      "\n",
      "           0       0.81      0.77      0.79      1710\n",
      "           1       0.88      0.86      0.87     46110\n",
      "           2       0.86      0.84      0.85     28830\n",
      "           3       0.77      0.79      0.78     25890\n",
      "           4       0.40      0.51      0.45      2880\n",
      "\n",
      "    accuracy                           0.83    105420\n",
      "   macro avg       0.74      0.75      0.75    105420\n",
      "weighted avg       0.83      0.83      0.83    105420\n",
      "\n"
     ]
    }
   ],
   "source": [
    "report_folder_n('juliana-rf', 10)"
   ]
  },
  {
   "cell_type": "code",
   "execution_count": 30,
   "id": "0fd4585d",
   "metadata": {},
   "outputs": [
    {
     "name": "stdout",
     "output_type": "stream",
     "text": [
      "0.8269399200845522\n",
      "0.827697469195225\n",
      "              precision    recall  f1-score   support\n",
      "\n",
      "           0       0.82      0.70      0.76      1710\n",
      "           1       0.87      0.88      0.87     46110\n",
      "           2       0.85      0.84      0.85     28830\n",
      "           3       0.76      0.76      0.76     25890\n",
      "           4       0.45      0.51      0.48      2880\n",
      "\n",
      "    accuracy                           0.83    105420\n",
      "   macro avg       0.75      0.74      0.74    105420\n",
      "weighted avg       0.83      0.83      0.83    105420\n",
      "\n"
     ]
    }
   ],
   "source": [
    "report_folder_n('juliana-gb', 10)"
   ]
  },
  {
   "cell_type": "code",
   "execution_count": 32,
   "id": "c679b842",
   "metadata": {},
   "outputs": [
    {
     "name": "stdout",
     "output_type": "stream",
     "text": [
      "0.7918252203741062\n",
      "0.8038336573332311\n",
      "              precision    recall  f1-score   support\n",
      "\n",
      "           0       0.74      0.81      0.78      1710\n",
      "           1       0.88      0.81      0.84     46110\n",
      "           2       0.83      0.80      0.81     28830\n",
      "           3       0.71      0.74      0.72     25890\n",
      "           4       0.27      0.56      0.36      2880\n",
      "\n",
      "    accuracy                           0.78    105420\n",
      "   macro avg       0.69      0.74      0.70    105420\n",
      "weighted avg       0.80      0.78      0.79    105420\n",
      "\n"
     ]
    }
   ],
   "source": [
    "report_folder_n('juliana-mlp', 10)"
   ]
  },
  {
   "cell_type": "code",
   "execution_count": 33,
   "id": "b5570d48",
   "metadata": {},
   "outputs": [
    {
     "name": "stdout",
     "output_type": "stream",
     "text": [
      "0.7380849405700577\n",
      "0.761457855750782\n",
      "              precision    recall  f1-score   support\n",
      "\n",
      "           0       0.40      0.84      0.54      1710\n",
      "           1       0.84      0.78      0.81     46110\n",
      "           2       0.77      0.72      0.74     28830\n",
      "           3       0.70      0.63      0.67     25890\n",
      "           4       0.21      0.60      0.31      2880\n",
      "\n",
      "    accuracy                           0.72    105420\n",
      "   macro avg       0.58      0.72      0.61    105420\n",
      "weighted avg       0.76      0.72      0.74    105420\n",
      "\n"
     ]
    }
   ],
   "source": [
    "report_folder_n('juliana-knn', 10)"
   ]
  },
  {
   "cell_type": "code",
   "execution_count": 34,
   "id": "79647d1d",
   "metadata": {},
   "outputs": [
    {
     "name": "stdout",
     "output_type": "stream",
     "text": [
      "0.6767753266549396\n",
      "0.742730557079078\n",
      "              precision    recall  f1-score   support\n",
      "\n",
      "           0       0.96      0.40      0.57      1710\n",
      "           1       0.62      0.95      0.75     46110\n",
      "           2       0.90      0.55      0.69     28830\n",
      "           3       0.83      0.48      0.60     25890\n",
      "           4       0.30      0.10      0.16      2880\n",
      "\n",
      "    accuracy                           0.69    105420\n",
      "   macro avg       0.72      0.50      0.55    105420\n",
      "weighted avg       0.74      0.69      0.68    105420\n",
      "\n"
     ]
    }
   ],
   "source": [
    "report_folder_n('juliana-svm', 10)"
   ]
  }
 ],
 "metadata": {
  "kernelspec": {
   "display_name": "Python 3 (ipykernel)",
   "language": "python",
   "name": "python3"
  },
  "language_info": {
   "codemirror_mode": {
    "name": "ipython",
    "version": 3
   },
   "file_extension": ".py",
   "mimetype": "text/x-python",
   "name": "python",
   "nbconvert_exporter": "python",
   "pygments_lexer": "ipython3",
   "version": "3.8.10"
  }
 },
 "nbformat": 4,
 "nbformat_minor": 5
}
