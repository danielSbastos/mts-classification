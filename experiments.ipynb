{
 "cells": [
  {
   "cell_type": "code",
   "execution_count": null,
   "id": "2f8d9543",
   "metadata": {},
   "outputs": [],
   "source": [
    "import numpy as np\n",
    "import pandas as pd\n",
    "from sklearn.preprocessing import MinMaxScaler, StandardScaler\n",
    "from sklearn.impute import KNNImputer\n",
    "from sklearn import preprocessing, model_selection\n",
    "from imblearn.over_sampling import SMOTE\n",
    "from imblearn.combine import SMOTETomek\n",
    "from sklearn.model_selection import GridSearchCV\n",
    "from sklearn.model_selection import StratifiedShuffleSplit\n",
    "from sklearn.metrics import classification_report\n",
    "from keras.models import Sequential\n",
    "from keras.layers import Dense, Input, Dropout\n",
    "from itertools import combinations \n",
    "from sklearn.preprocessing import PolynomialFeatures\n",
    "from sklearn.ensemble import GradientBoostingClassifier, AdaBoostClassifier, RandomForestClassifier\n",
    "from sklearn.neighbors import KNeighborsClassifier\n",
    "from sklearn.svm import SVC\n",
    "from sklearn.tree import DecisionTreeClassifier\n",
    "import os"
   ]
  },
  {
   "cell_type": "code",
   "execution_count": null,
   "id": "33408cb3",
   "metadata": {},
   "outputs": [],
   "source": [
    "def greatest_class(prediction):\n",
    "    max_item = max(prediction)\n",
    "    return prediction.tolist().index(max_item)\n",
    "\n",
    "def impute(x, y, imputer = None):\n",
    "    if imputer:\n",
    "        _x = pd.DataFrame(imputer.transform(x), columns = x.columns)\n",
    "        return _x, y, imputer\n",
    "    \n",
    "    imputer = KNNImputer(n_neighbors=3)\n",
    "    _x = pd.DataFrame(imputer.fit_transform(x), columns = x.columns)\n",
    "    return _x, y, imputer\n",
    "\n",
    "def oversample(x, y):\n",
    "    x_smote, y_smote = SMOTETomek().fit_resample(x, y)\n",
    "    return x_smote, y_smote\n",
    "\n",
    "def select_rows(x, y, cols):\n",
    "    df = pd.DataFrame(x, columns = cols)\n",
    "    df = df[df.columns.drop(list(df.filter(regex='Positive discriminator|MTS|Hospitalisation')))]\n",
    "    return df.to_numpy(), y, df.columns\n",
    "\n",
    "def augment(x, y, augmenter = None):\n",
    "    x = x.fillna(-1)\n",
    "    x, augmenter = _add_interactions(x, augmenter)\n",
    "    return x, y, augmenter, x.columns\n",
    "\n",
    "def _add_interactions(df, augmenter):\n",
    "    combos = list(combinations(list(df.columns), 2))\n",
    "    colnames = list(df.columns) + ['_'.join(x) for x in combos]\n",
    "\n",
    "    if augmenter:\n",
    "        df = augmenter.transform(df)\n",
    "    else:\n",
    "        augmenter = PolynomialFeatures(interaction_only=True, include_bias=False)\n",
    "        df = augmenter.fit_transform(df)\n",
    "\n",
    "    df = pd.DataFrame(df)\n",
    "    df.columns = colnames\n",
    "    \n",
    "    noint_indicies = [i for i, x in enumerate(list((df == 0).all())) if x]\n",
    "    df = df.drop(df.columns[noint_indicies], axis=1)\n",
    "    \n",
    "    return df, augmenter"
   ]
  },
  {
   "cell_type": "code",
   "execution_count": null,
   "id": "640c3704",
   "metadata": {},
   "outputs": [],
   "source": [
    "pd.set_option('display.max_columns', None)"
   ]
  },
  {
   "cell_type": "code",
   "execution_count": null,
   "id": "8bf9b79a",
   "metadata": {},
   "outputs": [],
   "source": [
    "df = pd.read_csv('data.csv')\n",
    "dataset = df[(df['Respiratory rate'].notnull() | df['Heart rate'].notnull() | df['Temperature'].notnull() | df['Oxygen saturation'].notnull()) & df['Age'].notnull()]"
   ]
  },
  {
   "cell_type": "code",
   "execution_count": null,
   "id": "a1f0db6e",
   "metadata": {},
   "outputs": [],
   "source": [
    "data = dataset"
   ]
  },
  {
   "cell_type": "code",
   "execution_count": null,
   "id": "e6a1324b",
   "metadata": {},
   "outputs": [],
   "source": [
    "fernando = data[data['Hospital '] == 'Fernando Fonseca Hospital']\n",
    "juliana = data[data['Hospital '] == 'Juliana Childrens Hospital']\n",
    "sophia = data[data['Hospital '] == 'Sophia Childrens Hospital']\n",
    "mary = data[data['Hospital '] == 'St Mary']"
   ]
  },
  {
   "cell_type": "code",
   "execution_count": null,
   "id": "e0a04952",
   "metadata": {},
   "outputs": [],
   "source": [
    "def scale(x, y, scaler = None):\n",
    "    if scaler:\n",
    "        return pd.DataFrame(scaler.transform(x), columns = x.columns), y, scaler\n",
    "    \n",
    "    scaler = MinMaxScaler()\n",
    "    norm_data = pd.DataFrame(scaler.fit_transform(x), columns = x.columns)\n",
    "\n",
    "    return norm_data, y, scaler"
   ]
  },
  {
   "cell_type": "code",
   "execution_count": null,
   "id": "0f4fd62d",
   "metadata": {},
   "outputs": [],
   "source": [
    "def ohe(data):\n",
    "    variables = data[['Presenting problem']]\n",
    "    dummmies = pd.get_dummies(variables)\n",
    "    df_ordinal_removed = data.drop(['Presenting problem'], axis=1)\n",
    "    data = pd.concat([dummmies, df_ordinal_removed], axis=1)\n",
    "\n",
    "    variables = data[['Positive discriminator']]\n",
    "    dummmies = pd.get_dummies(variables)\n",
    "    df_discriminator_removed = data.drop(['Positive discriminator'], axis=1)\n",
    "    data = pd.concat([dummmies, df_discriminator_removed], axis=1)\n",
    "\n",
    "    data['Hospitalisation'] = data['Hospitalisation'].replace({ 'no': 0, 'yes': 1})\n",
    "    return data"
   ]
  },
  {
   "cell_type": "code",
   "execution_count": null,
   "id": "7dcff805",
   "metadata": {},
   "outputs": [],
   "source": [
    "def gen_folds(data, fold):\n",
    "    num_folds = 10\n",
    "    fold_no = 1\n",
    "    kfold = model_selection.StratifiedKFold(n_splits=num_folds, shuffle=True)\n",
    "\n",
    "    data = data.drop([\n",
    "        'Patientnumber', 'Hospital ', 'Arrival date', 'MTS 1'\n",
    "    ], axis = 1)\n",
    "        \n",
    "    X = data.drop(['Original MTS'], axis = 1)\n",
    "    Y = data.filter(['Original MTS'])\n",
    "    \n",
    "    X = ohe(X)\n",
    "    Y = Y['Original MTS'].replace({ 'Non urgent': 0, 'Standard': 1, 'Urgent': 2, 'Very urgent': 3, 'Emergent': 4})\n",
    "       \n",
    "    X, Y, _, columns = augment(X, Y)\n",
    "    X[(X < 0) & (X != np.nan)] = np.nan\n",
    "        \n",
    "    for train, test in kfold.split(X, Y):\n",
    "        print('------------------------------------------------------------------------')\n",
    "        print(f'Training for fold {fold_no} ...')\n",
    "        \n",
    "        print('TRAIN: Normalizing data')\n",
    "        x_train, y_train, escaler = scale(X.loc[train], Y.loc[train])\n",
    "        print('TRAIN: Imputing')\n",
    "        x_train, y_train, imputer = impute(x_train, y_train)\n",
    "        print('TRAIN: Oversampling')\n",
    "        x_train, y_train = oversample(x_train, y_train)\n",
    "        print('TRAIN: Selecting rows')\n",
    "        x_train, y_train, _ = select_rows(x_train, y_train, columns)\n",
    "        \n",
    "        print('TEST: Normalizing data')\n",
    "        x_test, y_test, _ = scale(X.loc[test], Y.loc[test], escaler)\n",
    "        print('TEST: Imputing')\n",
    "        x_test, y_test, _ = impute(x_test, y_test, imputer)\n",
    "        print('TEST: Selecting rows')\n",
    "        x_test, y_test, filtered_columns = select_rows(x_test, y_test, columns)\n",
    "\n",
    "        x_train_df = pd.DataFrame(x_train, columns = filtered_columns)\n",
    "        y_train_df = pd.DataFrame(y_train.values, columns = ['MTS'])\n",
    "        x_test_df  = pd.DataFrame(x_test, columns = filtered_columns)\n",
    "        y_test_df  = pd.DataFrame(y_test.values, columns = ['MTS'])\n",
    "        \n",
    "        save_folds(x_train_df, y_train_df, x_test_df, y_test_df, fold, fold_no)\n",
    "                \n",
    "        fold_no = fold_no + 1"
   ]
  },
  {
   "cell_type": "code",
   "execution_count": null,
   "id": "beaca76a",
   "metadata": {},
   "outputs": [],
   "source": [
    "def save_folds(x_train, y_train, x_test, y_test, fold, fold_no):\n",
    "    path = 'folds/' + fold\n",
    "    \n",
    "    if not os.path.exists(path):\n",
    "        os.makedirs(path)\n",
    "        \n",
    "    x_train.to_csv(path  + '/'  + str(fold_no) + '_x_train.csv', index=False)\n",
    "    y_train.to_csv(path  + '/'  + str(fold_no) + '_y_train.csv', index=False)\n",
    "    x_test.to_csv(path  + '/'  + str(fold_no) + '_x_test.csv', index=False)\n",
    "    y_test.to_csv(path  + '/'  + str(fold_no) + '_y_test.csv', index=False)"
   ]
  },
  {
   "cell_type": "code",
   "execution_count": null,
   "id": "16512406",
   "metadata": {},
   "outputs": [],
   "source": [
    "def run_model(label, fold, model):\n",
    "    num_folds = 10\n",
    "    predictions_per_fold = []\n",
    "    verbosity = 1\n",
    "    fold_no = 1\n",
    "\n",
    "    while fold_no <= num_folds:\n",
    "        x_train = pd.read_csv('folds/' + fold + '/' + str(fold_no) + '_x_train.csv', index_col=False).to_numpy()\n",
    "        y_train = pd.read_csv('folds/' + fold + '/' + str(fold_no) + '_y_train.csv', index_col=False).to_numpy()\n",
    "        x_test  = pd.read_csv('folds/' + fold + '/' + str(fold_no) + '_x_test.csv', index_col=False).to_numpy()\n",
    "        y_test  = pd.read_csv('folds/' + fold + '/' + str(fold_no) + '_y_test.csv', index_col=False).to_numpy()\n",
    "            \n",
    "        y_train = np.ravel(y_train, order = 'C')\n",
    "        y_test = np.ravel(y_test, order = 'C')\n",
    "         \n",
    "        print('------------------------------------------------------------------------')\n",
    "        print(f'Fold {fold_no} ...')\n",
    "        model(x_train, y_train, x_test, y_test, label, fold_no)\n",
    "        \n",
    "        fold_no = fold_no + 1"
   ]
  },
  {
   "cell_type": "code",
   "execution_count": null,
   "id": "71c1bd5e",
   "metadata": {},
   "outputs": [],
   "source": [
    "def svm(x_train, y_train, x_test, y_test, label, fold_no):\n",
    "    print('Fitting model')\n",
    "    clf = SVC(decision_function_shape='ovr', kernel='rbf', C=100, gamma=100)\n",
    "    clf.fit(x_train, y_train)\n",
    "\n",
    "    print('Predicting')\n",
    "    predicted = clf.decision_function(x_test)\n",
    "\n",
    "    class_per_prediction = list(map(greatest_class, predicted))\n",
    "    save_to_file([class_per_prediction, y_test], label, fold_no)"
   ]
  },
  {
   "cell_type": "code",
   "execution_count": null,
   "id": "f46bb9c9",
   "metadata": {},
   "outputs": [],
   "source": [
    "def mlp(x_train, y_train, x_test, y_test, label, fold_no):\n",
    "    model = Sequential()\n",
    "    model.add(Input(shape=(x_train.shape[1],)))\n",
    "    model.add(Dense(256, activation = 'relu'))\n",
    "    model.add(Dropout(0.2))\n",
    "    model.add(Dense(128, activation = 'relu')) \n",
    "    model.add(Dropout(0.2))\n",
    "    model.add(Dense(5, activation = 'softmax'))\n",
    "    model.compile(loss='sparse_categorical_crossentropy', optimizer = 'adam' , metrics = ['accuracy'])\n",
    "\n",
    "    print('Fitting model')\n",
    "    history = model.fit(x_train, y_train, batch_size=64, epochs=50)\n",
    "    scores = model.evaluate(x_test, y_test, verbose=0)\n",
    "\n",
    "    print('Predicting')\n",
    "    predicted = model.predict(x_test)\n",
    "\n",
    "    class_per_prediction = list(map(greatest_class, predicted))\n",
    "    save_to_file([class_per_prediction, y_test], label, fold_no)"
   ]
  },
  {
   "cell_type": "code",
   "execution_count": null,
   "id": "abc41235",
   "metadata": {},
   "outputs": [],
   "source": [
    "def dt(x_train, y_train, x_test, y_test, label, fold_no):\n",
    "    print('Fitting model')\n",
    "    clf = DecisionTreeClassifier()\n",
    "    clf.fit(x_train, y_train)\n",
    "\n",
    "    print('Predicting')\n",
    "    score = clf.score(x_test, y_test)\n",
    "    print(f'Score for fold {fold_no}: {score}')\n",
    "\n",
    "    predicted = clf.predict(x_test)\n",
    "    save_to_file([predicted, y_test], label, fold_no)"
   ]
  },
  {
   "cell_type": "code",
   "execution_count": null,
   "id": "2e8a261a",
   "metadata": {},
   "outputs": [],
   "source": [
    "def gb(x_train, y_train, x_test, y_test, label, fold_no):\n",
    "    print('Fitting model')\n",
    "    clf = GradientBoostingClassifier(n_estimators=100, learning_rate=1.0, max_depth=5)\n",
    "    clf.fit(x_train, y_train)\n",
    "\n",
    "    print('Predicting')\n",
    "    score = clf.score(x_test, y_test)\n",
    "    print(f'Score for fold {fold_no}: {score}')\n",
    "\n",
    "    predicted = clf.predict(x_test)\n",
    "    save_to_file([predicted, y_test], label, fold_no)"
   ]
  },
  {
   "cell_type": "code",
   "execution_count": null,
   "id": "7acabe11",
   "metadata": {},
   "outputs": [],
   "source": [
    "def ab(x_train, y_train, x_test, y_test, label, fold_no):\n",
    "    print('Fitting model')\n",
    "    clf = AdaBoostClassifier(n_estimators=100)\n",
    "    clf.fit(x_train, y_train)\n",
    "\n",
    "    print('Predicting')\n",
    "    score = clf.score(x_test, y_test)\n",
    "    print(f'Score for fold {fold_no}: {score}')\n",
    "\n",
    "    predicted = clf.predict(x_test)\n",
    "    save_to_file([predicted, y_test], label, fold_no)"
   ]
  },
  {
   "cell_type": "code",
   "execution_count": null,
   "id": "12dfd5da",
   "metadata": {},
   "outputs": [],
   "source": [
    "def rf(x_train, y_train, x_test, y_test, label, fold_no):\n",
    "    print('Fitting model')\n",
    "    clf = RandomForestClassifier(n_estimators=100)\n",
    "    clf.fit(x_train, y_train)\n",
    "\n",
    "    print('Predicting')\n",
    "    score = clf.score(x_test, y_test)\n",
    "    print(f'Score for fold {fold_no}: {score}')\n",
    "\n",
    "    predicted = clf.predict(x_test)\n",
    "    save_to_file([predicted, y_test], label, fold_no)"
   ]
  },
  {
   "cell_type": "code",
   "execution_count": null,
   "id": "2eaedb8d",
   "metadata": {},
   "outputs": [],
   "source": [
    "def knn(x_train, y_train, x_test, y_test, label, fold_no):\n",
    "    print('Fitting model')\n",
    "    clf = KNeighborsClassifier(n_neighbors=10)\n",
    "    clf.fit(x_train, y_train)\n",
    "\n",
    "    print('Predicting')\n",
    "    score = clf.score(x_test, y_test)\n",
    "    print(f'Score for fold {fold_no}: {score}')\n",
    "\n",
    "    predicted = clf.predict(x_test)\n",
    "    save_to_file([predicted, y_test], label, fold_no)"
   ]
  },
  {
   "cell_type": "code",
   "execution_count": null,
   "id": "032b5353",
   "metadata": {},
   "outputs": [],
   "source": [
    "def save_to_file(predictions, tag, fold_no):\n",
    "    path = 'results/' + tag + '/'\n",
    "    \n",
    "    if not os.path.exists(path):\n",
    "        os.makedirs(path)    \n",
    "\n",
    "    with open(path + str(fold_no) + '-predicted.txt', 'w+') as writer:\n",
    "        writer.writelines(list(map(str, predictions[0])))\n",
    "        writer.write(\"\\n\")\n",
    "            \n",
    "    with open(path + str(fold_no) + '-label.txt', 'w+') as writer:\n",
    "        writer.writelines(list(map(str, predictions[1])))\n",
    "        writer.write(\"\\n\")"
   ]
  },
  {
   "cell_type": "markdown",
   "id": "c9d7c4bf",
   "metadata": {},
   "source": [
    "# Run tests"
   ]
  },
  {
   "cell_type": "code",
   "execution_count": null,
   "id": "2b625cba",
   "metadata": {
    "scrolled": true
   },
   "outputs": [],
   "source": [
    "for i in range(30):\n",
    "    run_model('juliana-ab/' + str(i), 'juliana', ab)"
   ]
  },
  {
   "cell_type": "code",
   "execution_count": null,
   "id": "611ec7c2",
   "metadata": {
    "scrolled": true
   },
   "outputs": [],
   "source": [
    "run_model('juliana-knn', 'juliana-negative', knn)"
   ]
  },
  {
   "cell_type": "markdown",
   "id": "9d3952d2",
   "metadata": {},
   "source": [
    "# Generate folds"
   ]
  },
  {
   "cell_type": "code",
   "execution_count": null,
   "id": "71a18842",
   "metadata": {},
   "outputs": [],
   "source": [
    "gen_folds(pd.concat([juliana]).reset_index(drop=True), 'juliana')"
   ]
  },
  {
   "cell_type": "code",
   "execution_count": null,
   "id": "e3b3d704",
   "metadata": {},
   "outputs": [],
   "source": [
    "columns = [\n",
    "    'Presenting problem_Dyspnea',\n",
    "    'Presenting problem_Ear, nose, throat',\n",
    "    'Presenting problem_Fever without source',\n",
    "    'Presenting problem_Gastro-intestinal',\n",
    "    'Presenting problem_Neurological',\n",
    "    'Presenting problem_Other problems',\n",
    "    'Presenting problem_Rash',\n",
    "    'Presenting problem_Trauma',\n",
    "    'Presenting problem_Urinary tract problems',\n",
    "    'Presenting problem_Wounds',\n",
    "    'Presenting problem_local infection/abscess',\n",
    "    'Age',\n",
    "    'Respiratory rate',\n",
    "    'Heart rate',\n",
    "    'Temperature',\n",
    "    'Oxygen saturation',\n",
    "]"
   ]
  },
  {
   "cell_type": "markdown",
   "id": "92a278cc",
   "metadata": {},
   "source": [
    "# Analysis"
   ]
  },
  {
   "cell_type": "code",
   "execution_count": null,
   "id": "1cd00feb",
   "metadata": {},
   "outputs": [],
   "source": [
    "#juliana.groupby('Original MTS').describe()\n",
    "juliana.describe()\n",
    "\n",
    "juliana['Oxygen saturation'] = juliana['Oxygen saturation'].astype('float64')\n",
    "# print(juliana.describe().to_latex())\n",
    "print(juliana.groupby('Original MTS').describe().to_latex())\n",
    "\n",
    "\n",
    "#juliana['Original MTS'].value_counts()"
   ]
  },
  {
   "cell_type": "code",
   "execution_count": null,
   "id": "0f4100e9",
   "metadata": {},
   "outputs": [],
   "source": [
    "#sophia.groupby('Original MTS').describe()\n",
    "\n",
    "sophia['Oxygen saturation'] = sophia['Oxygen saturation'].astype('float64')\n",
    "\n",
    "\n",
    "print(sophia.groupby('Original MTS').describe().to_latex())\n",
    "\n",
    "#print(sophia.describe())"
   ]
  }
 ],
 "metadata": {
  "kernelspec": {
   "display_name": "Python 3 (ipykernel)",
   "language": "python",
   "name": "python3"
  },
  "language_info": {
   "codemirror_mode": {
    "name": "ipython",
    "version": 3
   },
   "file_extension": ".py",
   "mimetype": "text/x-python",
   "name": "python",
   "nbconvert_exporter": "python",
   "pygments_lexer": "ipython3",
   "version": "3.8.10"
  }
 },
 "nbformat": 4,
 "nbformat_minor": 5
}
