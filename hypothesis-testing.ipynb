{
 "cells": [
  {
   "cell_type": "code",
   "execution_count": 1,
   "id": "5d7fb8f8",
   "metadata": {},
   "outputs": [],
   "source": [
    "from scipy.stats import shapiro as stats_shapiro, kruskal as stats_kruskal, f_oneway\n",
    "from sklearn.metrics import f1_score, accuracy_score, classification_report"
   ]
  },
  {
   "cell_type": "code",
   "execution_count": 2,
   "id": "c4efe67c",
   "metadata": {},
   "outputs": [],
   "source": [
    "import pandas as pd"
   ]
  },
  {
   "cell_type": "code",
   "execution_count": 3,
   "id": "147033a1",
   "metadata": {},
   "outputs": [],
   "source": [
    "import scikit_posthocs"
   ]
  },
  {
   "cell_type": "code",
   "execution_count": 5,
   "id": "69231a43",
   "metadata": {},
   "outputs": [],
   "source": [
    "from statsmodels.stats.multicomp import pairwise_tukeyhsd\n",
    "import matplotlib.pyplot as plt"
   ]
  },
  {
   "cell_type": "code",
   "execution_count": 6,
   "id": "e11252a0",
   "metadata": {},
   "outputs": [],
   "source": [
    "models = ['sophia-dt', 'sophia-gb', 'sophia-knn', 'sophia-mlp', 'sophia-rf', 'sophia-svm']"
   ]
  },
  {
   "cell_type": "code",
   "execution_count": 7,
   "id": "9ff5b63e",
   "metadata": {},
   "outputs": [
    {
     "name": "stderr",
     "output_type": "stream",
     "text": [
      "/home/daniel/.local/lib/python3.8/site-packages/outdated/utils.py:14: OutdatedPackageWarning: The package pingouin is out of date. Your version is 0.5.1, the latest is 0.5.2.\n",
      "Set the environment variable OUTDATED_IGNORE=1 to disable these warnings.\n",
      "  return warn(\n"
     ]
    }
   ],
   "source": [
    "def report_folder_n(label, fold_no=10):\n",
    "    f1_scores = []\n",
    "    accuracies = []\n",
    "    all_predictions = []\n",
    "    all_labels = []\n",
    "    \n",
    "    for n in range(30):\n",
    "        predictions = []\n",
    "        labels = []\n",
    "        for i in range(1, fold_no + 1):\n",
    "            with open('results/' + label + '/' + str(n) + '/' + str(i) + '-predicted.txt', 'r') as file:\n",
    "                for _predictions in file.readlines():\n",
    "                    predictions += list(_predictions)[:-1]\n",
    "                    \n",
    "            with open('results/' + label + '/' + str(n) + '/' + str(i) + '-label.txt', 'r') as file:\n",
    "                for _labels in file.readlines():\n",
    "                    labels += list(_labels)[:-1]\n",
    "                    \n",
    "        all_predictions += predictions            \n",
    "        all_labels += labels           \n",
    "        f1_scores.append(f1_score(labels, predictions, average='weighted'))\n",
    "        accuracies.append(accuracy_score(labels, predictions))\n",
    "    \n",
    "    print(classification_report(all_labels, all_predictions))\n",
    "    return f1_scores, accuracies"
   ]
  },
  {
   "cell_type": "code",
   "execution_count": 8,
   "id": "20b2d732",
   "metadata": {},
   "outputs": [],
   "source": [
    "def shapiro(model):\n",
    "    print(\"====> Shapiro-Wilk for \" + model)\n",
    "    f1_scores, accuracies = report_folder_n(model)\n",
    "    p_value_f1 = stats_shapiro(f1_scores)[1]\n",
    "    p_value_accuracy = stats_shapiro(accuracies)[1]\n",
    "    \n",
    "    print(\"    p-value F1-score: \" + str(p_value_f1), end=\" \")\n",
    "    if p_value_f1 < 0.05:\n",
    "        print(\"not gaussian\")\n",
    "    else:\n",
    "        print(\"gaussian\")\n",
    "        \n",
    "    print(\"    p-value Accuracy: \" + str(p_value_accuracy), end=\" \")\n",
    "    if p_value_accuracy < 0.05:\n",
    "        print(\"not gaussian\\n\")\n",
    "    else:\n",
    "        print(\"gaussian\\n\")"
   ]
  },
  {
   "cell_type": "code",
   "execution_count": 11,
   "id": "0db6f36b",
   "metadata": {},
   "outputs": [
    {
     "name": "stdout",
     "output_type": "stream",
     "text": [
      "====> Shapiro-Wilk for sophia-svm\n",
      "    p-value F1-score: 0.7518213987350464 gaussian\n",
      "    p-value Accuracy: 0.25722047686576843 gaussian\n",
      "\n",
      "====> Shapiro-Wilk for sophia-dt\n",
      "    p-value F1-score: 0.7776756286621094 gaussian\n",
      "    p-value Accuracy: 0.7414937615394592 gaussian\n",
      "\n",
      "====> Shapiro-Wilk for sophia-rf\n",
      "    p-value F1-score: 0.8499969840049744 gaussian\n",
      "    p-value Accuracy: 0.9732885360717773 gaussian\n",
      "\n",
      "====> Shapiro-Wilk for sophia-gb\n",
      "    p-value F1-score: 0.48902201652526855 gaussian\n",
      "    p-value Accuracy: 0.3950154185295105 gaussian\n",
      "\n",
      "====> Shapiro-Wilk for sophia-knn\n",
      "    p-value F1-score: 0.25500810146331787 gaussian\n",
      "    p-value Accuracy: 0.4573189616203308 gaussian\n",
      "\n",
      "====> Shapiro-Wilk for sophia-mlp\n",
      "    p-value F1-score: 0.1459038257598877 gaussian\n",
      "    p-value Accuracy: 0.3176412880420685 gaussian\n",
      "\n"
     ]
    },
    {
     "data": {
      "text/plain": [
       "[None, None, None, None, None, None]"
      ]
     },
     "execution_count": 11,
     "metadata": {},
     "output_type": "execute_result"
    }
   ],
   "source": [
    "list(map(shapiro, models))"
   ]
  },
  {
   "cell_type": "code",
   "execution_count": 7,
   "id": "6bbd5d9d",
   "metadata": {},
   "outputs": [
    {
     "name": "stdout",
     "output_type": "stream",
     "text": [
      "KruskalResult(statistic=204.56278041074245, pvalue=2.0268028141574008e-41) KruskalResult(statistic=204.2983128256996, pvalue=2.307423016562743e-41)\n"
     ]
    }
   ],
   "source": [
    "results = list(map(report_folder_n, models))\n",
    "f1_scores = list(map(lambda x: x[0], results))\n",
    "accuracies = list(map(lambda x: x[1], results))\n",
    "f1_kruskal = stats_kruskal(*f1_scores)\n",
    "acc_kruskal = stats_kruskal(*accuracies)\n",
    "print(f1_kruskal, acc_kruskal)"
   ]
  },
  {
   "cell_type": "code",
   "execution_count": 9,
   "id": "801c2768",
   "metadata": {},
   "outputs": [
    {
     "name": "stdout",
     "output_type": "stream",
     "text": [
      "F_onewayResult(statistic=7402.3933035493355, pvalue=1.249442042850079e-200) F_onewayResult(statistic=6957.286189371347, pvalue=2.6811625899873087e-198)\n"
     ]
    }
   ],
   "source": [
    "results = list(map(report_folder_n, models))\n",
    "f1_scores = list(map(lambda x: x[0], results))\n",
    "accuracies = list(map(lambda x: x[1], results))\n",
    "f1_kruskal = f_oneway(*f1_scores)\n",
    "acc_kruskal = f_oneway(*accuracies)\n",
    "print(f1_kruskal, acc_kruskal)"
   ]
  },
  {
   "cell_type": "code",
   "execution_count": 10,
   "id": "67e4a6e9",
   "metadata": {},
   "outputs": [],
   "source": [
    "import numpy as np"
   ]
  },
  {
   "cell_type": "code",
   "execution_count": 11,
   "id": "50f8120e",
   "metadata": {},
   "outputs": [],
   "source": [
    "def groups(models):\n",
    "    arr = []\n",
    "    for i in models:\n",
    "        arr += ([i] * 30)\n",
    "    return arr"
   ]
  },
  {
   "cell_type": "code",
   "execution_count": 12,
   "id": "2912d578",
   "metadata": {},
   "outputs": [],
   "source": [
    "models_up = ['DT', 'GB', 'KNN', 'MLP', 'RF', 'SVM']"
   ]
  },
  {
   "cell_type": "code",
   "execution_count": 29,
   "id": "d153986f",
   "metadata": {},
   "outputs": [
    {
     "data": {
      "text/plain": [
       "[('DT', 0.6768099691267666),\n",
       " ('DT', 0.6763118061824077),\n",
       " ('DT', 0.6701837695853339),\n",
       " ('DT', 0.6701979466888847),\n",
       " ('DT', 0.6730299953105665),\n",
       " ('DT', 0.689350051364522),\n",
       " ('DT', 0.6739827952575823),\n",
       " ('DT', 0.6820233092614671),\n",
       " ('DT', 0.6866124065285695),\n",
       " ('DT', 0.6815688493484376),\n",
       " ('DT', 0.677186730235149),\n",
       " ('DT', 0.6687390518756814),\n",
       " ('DT', 0.6774651101858814),\n",
       " ('DT', 0.6871631587239556),\n",
       " ('DT', 0.6749845157646297),\n",
       " ('DT', 0.6825692968068053),\n",
       " ('DT', 0.6799637452474976),\n",
       " ('DT', 0.677540154774489),\n",
       " ('DT', 0.6757798249226559),\n",
       " ('DT', 0.6803047723959144),\n",
       " ('DT', 0.6671120149927864),\n",
       " ('DT', 0.675828197682865),\n",
       " ('DT', 0.672959746165463),\n",
       " ('DT', 0.6823841669807044),\n",
       " ('DT', 0.6781876196817639),\n",
       " ('DT', 0.6761160185634679),\n",
       " ('DT', 0.6794647105242221),\n",
       " ('DT', 0.6879178409295609),\n",
       " ('DT', 0.6841861524451888),\n",
       " ('DT', 0.676355751148489),\n",
       " ('GB', 0.7679199794624634),\n",
       " ('GB', 0.7711759441671632),\n",
       " ('GB', 0.7694467709205493),\n",
       " ('GB', 0.7627753871786439),\n",
       " ('GB', 0.7708542077838303),\n",
       " ('GB', 0.7704594418443516),\n",
       " ('GB', 0.7712705558476418),\n",
       " ('GB', 0.7719055837856408),\n",
       " ('GB', 0.7701600668038213),\n",
       " ('GB', 0.767383207253539),\n",
       " ('GB', 0.7651281656483128),\n",
       " ('GB', 0.7702878271148347),\n",
       " ('GB', 0.7675433568758969),\n",
       " ('GB', 0.7691354675663528),\n",
       " ('GB', 0.7676661169220615),\n",
       " ('GB', 0.7689171437642506),\n",
       " ('GB', 0.7689786978374502),\n",
       " ('GB', 0.765891318870321),\n",
       " ('GB', 0.7671277875683874),\n",
       " ('GB', 0.7672078892635092),\n",
       " ('GB', 0.7659378023256453),\n",
       " ('GB', 0.7656192632962299),\n",
       " ('GB', 0.7662224365552993),\n",
       " ('GB', 0.763972766344057),\n",
       " ('GB', 0.7713231109161846),\n",
       " ('GB', 0.7696320618380295),\n",
       " ('GB', 0.7669998075852504),\n",
       " ('GB', 0.7699056947475837),\n",
       " ('GB', 0.7660045956855948),\n",
       " ('GB', 0.7688592507457584),\n",
       " ('KNN', 0.6899505924503017),\n",
       " ('KNN', 0.6888690834423065),\n",
       " ('KNN', 0.6933742911603347),\n",
       " ('KNN', 0.6907341991892338),\n",
       " ('KNN', 0.693873775620006),\n",
       " ('KNN', 0.6906324339182329),\n",
       " ('KNN', 0.6916744670396855),\n",
       " ('KNN', 0.6889487268453769),\n",
       " ('KNN', 0.6916298845822643),\n",
       " ('KNN', 0.692184461348107),\n",
       " ('KNN', 0.6909964572347546),\n",
       " ('KNN', 0.6881912703492117),\n",
       " ('KNN', 0.6920782912335186),\n",
       " ('KNN', 0.6909842882843911),\n",
       " ('KNN', 0.689269569429386),\n",
       " ('KNN', 0.6952514615726696),\n",
       " ('KNN', 0.6880639572695825),\n",
       " ('KNN', 0.6880865418888099),\n",
       " ('KNN', 0.6948297999597236),\n",
       " ('KNN', 0.6901518608250697),\n",
       " ('KNN', 0.6914520064607973),\n",
       " ('KNN', 0.6956221792869487),\n",
       " ('KNN', 0.6885480490756941),\n",
       " ('KNN', 0.691514876060728),\n",
       " ('KNN', 0.6955962055687496),\n",
       " ('KNN', 0.6868710509319206),\n",
       " ('KNN', 0.6880475217602003),\n",
       " ('KNN', 0.6936062234372775),\n",
       " ('KNN', 0.6916500660719613),\n",
       " ('KNN', 0.690233308683541),\n",
       " ('MLP', 0.7229908281500732),\n",
       " ('MLP', 0.7261144560743886),\n",
       " ('MLP', 0.72269422568989),\n",
       " ('MLP', 0.7227458085296183),\n",
       " ('MLP', 0.718062801795663),\n",
       " ('MLP', 0.7232104839621054),\n",
       " ('MLP', 0.7160353112285281),\n",
       " ('MLP', 0.7232622368379135),\n",
       " ('MLP', 0.7235251811968193),\n",
       " ('MLP', 0.7141250075011387),\n",
       " ('MLP', 0.7256336034988083),\n",
       " ('MLP', 0.7190883881673699),\n",
       " ('MLP', 0.7223329564819211),\n",
       " ('MLP', 0.7229742972531028),\n",
       " ('MLP', 0.7190528486493809),\n",
       " ('MLP', 0.7225612124160238),\n",
       " ('MLP', 0.7177969013377945),\n",
       " ('MLP', 0.7226909031304901),\n",
       " ('MLP', 0.7186936239822288),\n",
       " ('MLP', 0.7248428827963261),\n",
       " ('MLP', 0.7218988591823148),\n",
       " ('MLP', 0.7244157152716653),\n",
       " ('MLP', 0.7230496383278219),\n",
       " ('MLP', 0.7224884103880919),\n",
       " ('MLP', 0.7182347820691086),\n",
       " ('MLP', 0.7210879291116935),\n",
       " ('MLP', 0.7206574625207641),\n",
       " ('MLP', 0.7122935521909398),\n",
       " ('MLP', 0.7176948963419004),\n",
       " ('MLP', 0.7278468424741722),\n",
       " ('RF', 0.7857470606071078),\n",
       " ('RF', 0.7897438372210918),\n",
       " ('RF', 0.7859344565459039),\n",
       " ('RF', 0.7854555929460825),\n",
       " ('RF', 0.7917943537885528),\n",
       " ('RF', 0.7885461286838834),\n",
       " ('RF', 0.782674431109577),\n",
       " ('RF', 0.7834337165049577),\n",
       " ('RF', 0.7859801498447859),\n",
       " ('RF', 0.7853972613382338),\n",
       " ('RF', 0.7889688074487592),\n",
       " ('RF', 0.7832940663724822),\n",
       " ('RF', 0.7844120753269245),\n",
       " ('RF', 0.7871274230407025),\n",
       " ('RF', 0.781475322368712),\n",
       " ('RF', 0.7861040562522795),\n",
       " ('RF', 0.786937339246696),\n",
       " ('RF', 0.7861648194826537),\n",
       " ('RF', 0.7835743714648203),\n",
       " ('RF', 0.784048504609066),\n",
       " ('RF', 0.7844135774383966),\n",
       " ('RF', 0.7859139195507078),\n",
       " ('RF', 0.7850329229411972),\n",
       " ('RF', 0.7890827144307601),\n",
       " ('RF', 0.7843982718523691),\n",
       " ('RF', 0.7870725240343185),\n",
       " ('RF', 0.7836069570682056),\n",
       " ('RF', 0.7871774148652974),\n",
       " ('RF', 0.786990220155461),\n",
       " ('RF', 0.788360622138317),\n",
       " ('SVM', 0.6538972469676881),\n",
       " ('SVM', 0.656322727258666),\n",
       " ('SVM', 0.6527515528763614),\n",
       " ('SVM', 0.6525772488937633),\n",
       " ('SVM', 0.6518234865713236),\n",
       " ('SVM', 0.6544515016809599),\n",
       " ('SVM', 0.6522750876681958),\n",
       " ('SVM', 0.6569346967618163),\n",
       " ('SVM', 0.6573559420426831),\n",
       " ('SVM', 0.649491562393032),\n",
       " ('SVM', 0.6514154050873758),\n",
       " ('SVM', 0.651777381289253),\n",
       " ('SVM', 0.6533823040893773),\n",
       " ('SVM', 0.6511851141372097),\n",
       " ('SVM', 0.6537593032753679),\n",
       " ('SVM', 0.6560080497951104),\n",
       " ('SVM', 0.6530760877665995),\n",
       " ('SVM', 0.6556199318976472),\n",
       " ('SVM', 0.6547511190088814),\n",
       " ('SVM', 0.6512413236888831),\n",
       " ('SVM', 0.6505399281050649),\n",
       " ('SVM', 0.6583014426909864),\n",
       " ('SVM', 0.6529527168578645),\n",
       " ('SVM', 0.6537675003333634),\n",
       " ('SVM', 0.6518597652375469),\n",
       " ('SVM', 0.6531362068572312),\n",
       " ('SVM', 0.6494783387117196),\n",
       " ('SVM', 0.6553504375029436),\n",
       " ('SVM', 0.6557374638259512),\n",
       " ('SVM', 0.6522807366915473)]"
      ]
     },
     "execution_count": 29,
     "metadata": {},
     "output_type": "execute_result"
    }
   ],
   "source": [
    "list(zip(groups(models_up), np.array(f1_scores).flatten()))"
   ]
  },
  {
   "cell_type": "code",
   "execution_count": 13,
   "id": "b1d5506c",
   "metadata": {},
   "outputs": [],
   "source": [
    "f1_scores_df = pd.DataFrame({'score': np.array(f1_scores).flatten(), 'group': groups(models_up)}) "
   ]
  },
  {
   "cell_type": "code",
   "execution_count": 14,
   "id": "9ebf5eaa",
   "metadata": {},
   "outputs": [],
   "source": [
    "accuracy_df = pd.DataFrame({'score': np.array(accuracies).flatten(), 'group': groups(models_up)})"
   ]
  },
  {
   "cell_type": "code",
   "execution_count": 16,
   "id": "9af908cb",
   "metadata": {},
   "outputs": [
    {
     "name": "stdout",
     "output_type": "stream",
     "text": [
      "Multiple Comparison of Means - Tukey HSD, FWER=0.05\n",
      "===================================================\n",
      "group1 group2 meandiff p-adj  lower   upper  reject\n",
      "---------------------------------------------------\n",
      "    DT     GB   0.0901  -0.0  0.0876  0.0926   True\n",
      "    DT    KNN    0.013  -0.0  0.0105  0.0155   True\n",
      "    DT    MLP   0.0432  -0.0  0.0407  0.0457   True\n",
      "    DT     RF   0.1079  -0.0  0.1054  0.1104   True\n",
      "    DT    SVM  -0.0246  -0.0 -0.0271 -0.0222   True\n",
      "    GB    KNN  -0.0771  -0.0 -0.0796 -0.0746   True\n",
      "    GB    MLP  -0.0469  -0.0 -0.0494 -0.0444   True\n",
      "    GB     RF   0.0178  -0.0  0.0153  0.0202   True\n",
      "    GB    SVM  -0.1147  -0.0 -0.1172 -0.1123   True\n",
      "   KNN    MLP   0.0302  -0.0  0.0277  0.0326   True\n",
      "   KNN     RF   0.0949  -0.0  0.0924  0.0973   True\n",
      "   KNN    SVM  -0.0376  -0.0 -0.0401 -0.0352   True\n",
      "   MLP     RF   0.0647  -0.0  0.0622  0.0672   True\n",
      "   MLP    SVM  -0.0678  -0.0 -0.0703 -0.0653   True\n",
      "    RF    SVM  -0.1325  -0.0  -0.135   -0.13   True\n",
      "---------------------------------------------------\n"
     ]
    },
    {
     "data": {
      "image/png": "[encoded data removed]",
      "text/plain": [
       "<Figure size 360x288 with 1 Axes>"
      ]
     },
     "metadata": {
      "needs_background": "light"
     },
     "output_type": "display_data"
    }
   ],
   "source": [
    "m_comp = pairwise_tukeyhsd(endog=f1_scores_df['score'], groups=f1_scores_df['group'], alpha=0.05)\n",
    "print(m_comp)\n",
    "fig = m_comp.plot_simultaneous(comparison_name=\"RF\", figsize=(5, 4))\n",
    "fig.savefig('f1-tukey.png')"
   ]
  },
  {
   "cell_type": "code",
   "execution_count": 17,
   "id": "e1059f7f",
   "metadata": {},
   "outputs": [
    {
     "name": "stdout",
     "output_type": "stream",
     "text": [
      "Multiple Comparison of Means - Tukey HSD, FWER=0.05\n",
      "===================================================\n",
      "group1 group2 meandiff p-adj  lower   upper  reject\n",
      "---------------------------------------------------\n",
      "    DT     GB    0.117  -0.0  0.1143  0.1198   True\n",
      "    DT    KNN   0.0227  -0.0    0.02  0.0254   True\n",
      "    DT    MLP   0.0555  -0.0  0.0528  0.0582   True\n",
      "    DT     RF   0.1327  -0.0    0.13  0.1354   True\n",
      "    DT    SVM   0.0165  -0.0  0.0138  0.0192   True\n",
      "    GB    KNN  -0.0943  -0.0 -0.0971 -0.0916   True\n",
      "    GB    MLP  -0.0615  -0.0 -0.0643 -0.0588   True\n",
      "    GB     RF   0.0157  -0.0   0.013  0.0184   True\n",
      "    GB    SVM  -0.1005  -0.0 -0.1032 -0.0978   True\n",
      "   KNN    MLP   0.0328  -0.0  0.0301  0.0355   True\n",
      "   KNN     RF     0.11  -0.0  0.1073  0.1127   True\n",
      "   KNN    SVM  -0.0062   0.0 -0.0089 -0.0035   True\n",
      "   MLP     RF   0.0772  -0.0  0.0745  0.0799   True\n",
      "   MLP    SVM   -0.039  -0.0 -0.0417 -0.0363   True\n",
      "    RF    SVM  -0.1162  -0.0 -0.1189 -0.1135   True\n",
      "---------------------------------------------------\n"
     ]
    },
    {
     "data": {
      "image/png": "[encoded data removed]",
      "text/plain": [
       "<Figure size 360x288 with 1 Axes>"
      ]
     },
     "metadata": {
      "needs_background": "light"
     },
     "output_type": "display_data"
    }
   ],
   "source": [
    "m_comp = pairwise_tukeyhsd(endog=accuracy_df['score'], groups=accuracy_df['group'], alpha=0.05)\n",
    "print(m_comp)\n",
    "fig = m_comp.plot_simultaneous(comparison_name=\"RF\", figsize=(5, 4))\n",
    "fig.savefig('accuracy-tukey.png')"
   ]
  }
 ],
 "metadata": {
  "kernelspec": {
   "display_name": "Python 3 (ipykernel)",
   "language": "python",
   "name": "python3"
  },
  "language_info": {
   "codemirror_mode": {
    "name": "ipython",
    "version": 3
   },
   "file_extension": ".py",
   "mimetype": "text/x-python",
   "name": "python",
   "nbconvert_exporter": "python",
   "pygments_lexer": "ipython3",
   "version": "3.8.13"
  }
 },
 "nbformat": 4,
 "nbformat_minor": 5
}
